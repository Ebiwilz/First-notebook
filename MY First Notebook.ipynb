{
 "cells": [
  {
   "cell_type": "code",
   "execution_count": 1,
   "id": "d68100b2",
   "metadata": {},
   "outputs": [
    {
     "name": "stdout",
     "output_type": "stream",
     "text": [
      "Hello World\n"
     ]
    }
   ],
   "source": [
    "# I want to print Hello World\n",
    "print(\"Hello World\")"
   ]
  },
  {
   "cell_type": "code",
   "execution_count": 2,
   "id": "866c6df0",
   "metadata": {},
   "outputs": [],
   "source": [
    "instructor = \"Prisca\""
   ]
  },
  {
   "cell_type": "code",
   "execution_count": 3,
   "id": "71841b3e",
   "metadata": {},
   "outputs": [],
   "source": [
    "print(instructor)"
   ]
  },
  {
   "cell_type": "code",
   "execution_count": 4,
   "id": "a60534fb",
   "metadata": {},
   "outputs": [],
   "source": [
    "#just asking for your name\n",
    "# name = input(\"what is your name:\")\n",
    "# print(name)"
   ]
  },
  {
   "cell_type": "code",
   "execution_count": 5,
   "id": "11d2b47f",
   "metadata": {},
   "outputs": [],
   "source": [
    "# type(name)"
   ]
  },
  {
   "cell_type": "code",
   "execution_count": 6,
   "id": "2ac05ba4",
   "metadata": {},
   "outputs": [],
   "source": [
    "age=30"
   ]
  },
  {
   "cell_type": "code",
   "execution_count": 7,
   "id": "269df278",
   "metadata": {},
   "outputs": [],
   "source": [
    "print(type(age))"
   ]
  },
  {
   "cell_type": "code",
   "execution_count": 8,
   "id": "4b727de4",
   "metadata": {},
   "outputs": [],
   "source": [
    "boy = True"
   ]
  },
  {
   "cell_type": "code",
   "execution_count": 9,
   "id": "8c7fa648",
   "metadata": {
    "scrolled": true
   },
   "outputs": [],
   "source": [
    "print(type(boy))"
   ]
  },
  {
   "cell_type": "code",
   "execution_count": 10,
   "id": "1f077430",
   "metadata": {},
   "outputs": [],
   "source": [
    "type(boy)"
   ]
  },
  {
   "cell_type": "code",
   "execution_count": 11,
   "id": "211b2996",
   "metadata": {},
   "outputs": [],
   "source": [
    "age2 = 30\n",
    "name = \"Prisca\""
   ]
  },
  {
   "cell_type": "code",
   "execution_count": 12,
   "id": "61c4c54a",
   "metadata": {},
   "outputs": [],
   "source": [
    "#Exolaination of F-Strings\n",
    "\n",
    "print(f\"{name} is {age2} years old\")"
   ]
  },
  {
   "cell_type": "code",
   "execution_count": 13,
   "id": "bd254912",
   "metadata": {},
   "outputs": [],
   "source": [
    "sales = 1.2"
   ]
  },
  {
   "cell_type": "code",
   "execution_count": 14,
   "id": "289edcbb",
   "metadata": {},
   "outputs": [],
   "source": [
    "type(sales)"
   ]
  },
  {
   "cell_type": "code",
   "execution_count": 15,
   "id": "26137b63",
   "metadata": {},
   "outputs": [],
   "source": [
    "student = \"josh\""
   ]
  },
  {
   "cell_type": "code",
   "execution_count": 16,
   "id": "f9708d53",
   "metadata": {},
   "outputs": [],
   "source": [
    "print(student)\n"
   ]
  },
  {
   "cell_type": "code",
   "execution_count": 17,
   "id": "f66dbd71",
   "metadata": {},
   "outputs": [],
   "source": [
    "student.capitalize()"
   ]
  },
  {
   "cell_type": "code",
   "execution_count": 18,
   "id": "cee85a2e",
   "metadata": {},
   "outputs": [],
   "source": [
    "student.upper()"
   ]
  },
  {
   "cell_type": "code",
   "execution_count": 19,
   "id": "45726b59",
   "metadata": {},
   "outputs": [],
   "source": [
    "print = \"prisca\""
   ]
  },
  {
   "cell_type": "code",
   "execution_count": 20,
   "id": "79e2cb60",
   "metadata": {},
   "outputs": [],
   "source": [
    "name = \"Ebi\""
   ]
  },
  {
   "cell_type": "code",
   "execution_count": 21,
   "id": "8e7597fa",
   "metadata": {},
   "outputs": [],
   "source": [
    "print(name2)"
   ]
  },
  {
   "cell_type": "code",
   "execution_count": 22,
   "id": "ffbfe967",
   "metadata": {},
   "outputs": [],
   "source": [
    "#Just saying hello\n",
    "\n",
    "print(\"hello Ebi\")"
   ]
  },
  {
   "cell_type": "code",
   "execution_count": 23,
   "id": "0c158f39",
   "metadata": {},
   "outputs": [],
   "source": [
    "Fahrenheit = 68\n",
    "celsius  = (F - 32)/1.8"
   ]
  },
  {
   "cell_type": "code",
   "execution_count": 24,
   "id": "92f85d95",
   "metadata": {
    "scrolled": true
   },
   "outputs": [],
   "source": [
    "print(f\"{Fahrenheit}°C is {celsius}°C\")"
   ]
  },
  {
   "cell_type": "code",
   "execution_count": 25,
   "id": "634e2bc1",
   "metadata": {},
   "outputs": [],
   "source": [
    "result =5+3*2\n",
    "print(result)"
   ]
  },
  {
   "cell_type": "code",
   "execution_count": 26,
   "id": "0968a02b",
   "metadata": {},
   "outputs": [],
   "source": [
    "result=(5+3)*2\n",
    "print(result)"
   ]
  },
  {
   "cell_type": "code",
   "execution_count": 27,
   "id": "c4bcd857",
   "metadata": {},
   "outputs": [],
   "source": [
    "result=2**3*4\n",
    "print(result)"
   ]
  },
  {
   "cell_type": "code",
   "execution_count": 28,
   "id": "d552efcc",
   "metadata": {
    "scrolled": true
   },
   "outputs": [],
   "source": [
    "result=10+5/2\n",
    "print(result)"
   ]
  },
  {
   "cell_type": "code",
   "execution_count": 29,
   "id": "12c40492",
   "metadata": {},
   "outputs": [],
   "source": [
    "result=(4+3)*(2**2)/2-1\n",
    "print(result)"
   ]
  },
  {
   "cell_type": "code",
   "execution_count": 30,
   "id": "2b7d160b",
   "metadata": {},
   "outputs": [],
   "source": [
    "Var1 = 5\n",
    "Var2 = 10\n",
    "\n",
    "print(Var1 ==Var2) \n",
    "print(Var1 !=Var2) \n",
    "print(Var1 >=Var2) \n",
    "print(Var1 <=Var2) \n",
    "print(Var1  >Var2)\n",
    "print(Var1  <Var2)"
   ]
  },
  {
   "cell_type": "code",
   "execution_count": 45,
   "id": "63ccc7ec",
   "metadata": {},
   "outputs": [],
   "source": [
    "Var3= \"emmanuel\"\n",
    "Var4= \"Joshua\""
   ]
  },
  {
   "cell_type": "code",
   "execution_count": 48,
   "id": "f3c0a2c1",
   "metadata": {},
   "outputs": [],
   "source": [
    "if  Var3.startswith(\"E\"):\n",
    "    print(\"This name start with E\")\n",
    "elif \"e\" in Var3:\n",
    "    print(\"This name contains e\")  \n",
    "else:\n",
    "    print(\"This name does not start with E\")"
   ]
  },
  {
   "cell_type": "code",
   "execution_count": null,
   "id": "4c3790e3",
   "metadata": {},
   "outputs": [],
   "source": []
  }
 ],
 "metadata": {
  "kernelspec": {
   "display_name": "Python 3 (ipykernel)",
   "language": "python",
   "name": "python3"
  },
  "language_info": {
   "codemirror_mode": {
    "name": "ipython",
    "version": 3
   },
   "file_extension": ".py",
   "mimetype": "text/x-python",
   "name": "python",
   "nbconvert_exporter": "python",
   "pygments_lexer": "ipython3",
   "version": "3.11.3"
  }
 },
 "nbformat": 4,
 "nbformat_minor": 5
}
